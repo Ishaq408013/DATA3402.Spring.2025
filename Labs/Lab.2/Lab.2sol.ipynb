{
 "cells": [
  {
   "cell_type": "markdown",
   "metadata": {},
   "source": [
    "## Lab 2- Tic Tac Toe\n",
    "\n",
    "In this lab your will build a n x n Tic Tac Toe game. As you do the exercises, make sure your solutions work for any size Tic Tac Toe game. "
   ]
  },
  {
   "cell_type": "markdown",
   "metadata": {},
   "source": [
    "*Exercise 1:* Write a function that creates an n by n matrix (of list of lists) which will represent the state of a Tie Tac Toe game. Let 0, 1, and 2 represent empty, \"X\", and \"O\", respectively.\n"
   ]
  },
  {
   "cell_type": "code",
   "execution_count": 6,
   "metadata": {},
   "outputs": [],
   "source": [
    "def create_tic_tac_toe_matrix(n):\n",
    "\n",
    "    return [[0 for _ in range(n)] for _ in range(n)]\n"
   ]
  },
  {
   "cell_type": "code",
   "execution_count": 5,
   "metadata": {},
   "outputs": [
    {
     "name": "stdout",
     "output_type": "stream",
     "text": [
      "[0, 0, 0]\n",
      "[0, 0, 0]\n",
      "[0, 0, 0]\n"
     ]
    }
   ],
   "source": [
    "n = 3\n",
    "matrix = create_tic_tac_toe_matrix(n)\n",
    "for row in matrix:\n",
    "    print(row)"
   ]
  },
  {
   "cell_type": "markdown",
   "metadata": {},
   "source": [
    "*Exercise 2:* Write a function that takes 2 integers `n` and `m` as input and draws a `n` by `m` game board. For example the following is a 3x3 board:\n",
    "```\n",
    "   --- --- --- \n",
    "  |   |   |   | \n",
    "   --- --- ---  \n",
    "  |   |   |   | \n",
    "   --- --- ---  \n",
    "  |   |   |   | \n",
    "   --- --- --- \n",
    "   ```"
   ]
  },
  {
   "cell_type": "code",
   "execution_count": 7,
   "metadata": {},
   "outputs": [],
   "source": [
    "def draw_game_board(n, m):\n",
    "\n",
    "    for i in range(n):\n",
    "        print(\" ---\" * m)  \n",
    "        print(\"|   \" * m + \"|\")  \n",
    "    print(\" ---\" * m)  \n"
   ]
  },
  {
   "cell_type": "code",
   "execution_count": 11,
   "metadata": {
    "scrolled": true
   },
   "outputs": [
    {
     "name": "stdout",
     "output_type": "stream",
     "text": [
      " --- --- ---\n",
      "|   |   |   |\n",
      " --- --- ---\n",
      "|   |   |   |\n",
      " --- --- ---\n",
      "|   |   |   |\n",
      " --- --- ---\n"
     ]
    }
   ],
   "source": [
    "draw_game_board(3, 3)"
   ]
  },
  {
   "cell_type": "markdown",
   "metadata": {},
   "source": [
    "*Exercise 3:* Modify exercise 2, so that it takes a matrix of the form from exercise 1 and draws a tic-tac-tie board with \"X\"s and \"O\"s.  "
   ]
  },
  {
   "cell_type": "code",
   "execution_count": 12,
   "metadata": {},
   "outputs": [],
   "source": [
    "def draw_tic_tac_toe_board(matrix):\n",
    "   \n",
    "    n = len(matrix)  \n",
    "    m = len(matrix[0])  \n",
    "    \n",
    "   \n",
    "    symbols = {0: \" \", 1: \"X\", 2: \"O\"}\n",
    "    \n",
    "    for i in range(n):\n",
    "        print(\" ---\" * m)  \n",
    "        row = \"|\"\n",
    "        for j in range(m):\n",
    "            row += f\" {symbols[matrix[i][j]]} |\"  \n",
    "        print(row)\n",
    "    print(\" ---\" * m) \n",
    "\n"
   ]
  },
  {
   "cell_type": "code",
   "execution_count": 10,
   "metadata": {},
   "outputs": [
    {
     "name": "stdout",
     "output_type": "stream",
     "text": [
      " --- --- ---\n",
      "| X | O |   |\n",
      " --- --- ---\n",
      "|   | X | O |\n",
      " --- --- ---\n",
      "| O |   | X |\n",
      " --- --- ---\n"
     ]
    }
   ],
   "source": [
    "matrix = [\n",
    "    [1, 2, 0],\n",
    "    [0, 1, 2],\n",
    "    [2, 0, 1],\n",
    "]\n",
    "draw_tic_tac_toe_board(matrix)"
   ]
  },
  {
   "cell_type": "markdown",
   "metadata": {},
   "source": [
    "*Exercise 4:* Write a function that takes a `n` by `n` matrix representing a tic-tac-toe game, and returns -1, 0, 1, or 2 indicating the game is incomplete, the game is a draw, player 1 has won, or player 2 has one, respectively. Here are some example inputs you can use to test your code:"
   ]
  },
  {
   "cell_type": "code",
   "execution_count": 20,
   "metadata": {},
   "outputs": [],
   "source": [
    "def check_tic_tac_toe_winner(matrix):\n",
    "   \n",
    "    n = len(matrix)\n",
    "\n",
    "    for i in range(n):\n",
    "        if all(cell == 1 for cell in matrix[i]):  \n",
    "            return 1\n",
    "        if all(cell == 2 for cell in matrix[i]):  \n",
    "            return 2\n",
    "        if all(matrix[j][i] == 1 for j in range(n)):  \n",
    "            return 1\n",
    "        if all(matrix[j][i] == 2 for j in range(n)):  \n",
    "            return 2\n",
    "\n",
    "    if all(matrix[i][i] == 1 for i in range(n)):  \n",
    "        return 1\n",
    "    if all(matrix[i][i] == 2 for i in range(n)):  \n",
    "        return 2\n",
    "    if all(matrix[i][n - 1 - i] == 1 for i in range(n)):  \n",
    "        return 1\n",
    "    if all(matrix[i][n - 1 - i] == 2 for i in range(n)):  \n",
    "        return 2\n",
    "\n",
    "    if any(cell == 0 for row in matrix for cell in row):\n",
    "        return -1  \n",
    "\n",
    "    return 0\n",
    "\n",
    "\n"
   ]
  },
  {
   "cell_type": "code",
   "execution_count": 23,
   "metadata": {},
   "outputs": [
    {
     "name": "stdout",
     "output_type": "stream",
     "text": [
      "1\n",
      "1\n",
      "1\n",
      "0\n",
      "-1\n"
     ]
    }
   ],
   "source": [
    "matrix1 = [\n",
    "    [1, 1, 1],\n",
    "    [0, 2, 2],\n",
    "    [0, 0, 0],\n",
    "]  \n",
    "\n",
    "matrix2 = [\n",
    "    [1, 2, 0],\n",
    "    [1, 2, 0],\n",
    "    [1, 0, 0],\n",
    "]  \n",
    "\n",
    "matrix3 = [\n",
    "    [1, 2, 0],\n",
    "    [0, 1, 2],\n",
    "    [2, 0, 1],\n",
    "]  \n",
    "\n",
    "matrix4 = [\n",
    "    [1, 2, 2],\n",
    "    [2, 1, 1],\n",
    "    [1, 1, 2],\n",
    "]  \n",
    "\n",
    "matrix5 = [\n",
    "    [1, 2, 0],\n",
    "    [0, 1, 2],\n",
    "    [2, 0, 0],\n",
    "]  \n",
    "\n",
    "print(check_tic_tac_toe_winner(matrix1)) \n",
    "print(check_tic_tac_toe_winner(matrix2))  \n",
    "print(check_tic_tac_toe_winner(matrix3))  \n",
    "print(check_tic_tac_toe_winner(matrix4))  \n",
    "print(check_tic_tac_toe_winner(matrix5))  \n"
   ]
  },
  {
   "cell_type": "code",
   "execution_count": 24,
   "metadata": {},
   "outputs": [],
   "source": [
    "winner_is_2 = [[2, 2, 0],\n",
    "\t[2, 1, 0],\n",
    "\t[2, 1, 1]]\n",
    "\n",
    "winner_is_1 = [[1, 2, 0],\n",
    "\t[2, 1, 0],\n",
    "\t[2, 1, 1]]\n",
    "\n",
    "winner_is_also_1 = [[0, 1, 0],\n",
    "\t[2, 1, 0],\n",
    "\t[2, 1, 1]]\n",
    "\n",
    "no_winner = [[1, 2, 0],\n",
    "\t[2, 1, 0],\n",
    "\t[2, 1, 2]]\n",
    "\n",
    "also_no_winner = [[1, 2, 0],\n",
    "\t[2, 1, 0],\n",
    "\t[2, 1, 0]]"
   ]
  },
  {
   "cell_type": "markdown",
   "metadata": {},
   "source": [
    "*Exercise 5:* Write a function that takes a game board, player number, and `(x,y)` coordinates and places \"X\" or \"O\" in the correct location of the game board. Make sure that you only allow filling previously empty locations. Return `True` or `False` to indicate successful placement of \"X\" or \"O\"."
   ]
  },
  {
   "cell_type": "code",
   "execution_count": 27,
   "metadata": {},
   "outputs": [],
   "source": [
    "def place_symbol(board, player, x, y):\n",
    "    \n",
    "    if x < 0 or x >= len(board) or y < 0 or y >= len(board[0]):\n",
    "        return False  \n",
    "\n",
    "   \n",
    "    if board[x][y] == 0:\n",
    "        board[x][y] = player  \n",
    "        return True\n",
    "    else:\n",
    "        return False  \n",
    "\n",
    "\n",
    "\n"
   ]
  },
  {
   "cell_type": "code",
   "execution_count": 28,
   "metadata": {},
   "outputs": [
    {
     "name": "stdout",
     "output_type": "stream",
     "text": [
      "True\n",
      "False\n",
      "False\n",
      "[0, 1, 2]\n",
      "[0, 1, 0]\n",
      "[2, 1, 0]\n"
     ]
    }
   ],
   "source": [
    "game_board = [\n",
    "    [0, 1, 2],\n",
    "    [0, 0, 0],\n",
    "    [2, 1, 0],\n",
    "]\n",
    "\n",
    "print(place_symbol(game_board, 1, 1, 1))  \n",
    "print(place_symbol(game_board, 2, 0, 1)) \n",
    "print(place_symbol(game_board, 2, 3, 0))  \n",
    "\n",
    "for row in game_board:\n",
    "    print(row)"
   ]
  },
  {
   "cell_type": "markdown",
   "metadata": {},
   "source": [
    "*Exercise 6:* Modify Exercise 3 to show column and row labels so that players can specify location using \"A2\" or \"C1\"."
   ]
  },
  {
   "cell_type": "code",
   "execution_count": 29,
   "metadata": {},
   "outputs": [],
   "source": [
    "def draw_tic_tac_toe_board_with_labels(matrix):\n",
    "    \n",
    "    n = len(matrix)  \n",
    "    m = len(matrix[0])  \n",
    "\n",
    "    symbols = {0: \" \", 1: \"X\", 2: \"O\"}\n",
    "\n",
    "    print(\"   \" + \"   \".join([chr(65 + col) for col in range(m)]))  # A, B, C, ...\n",
    "\n",
    "    for i in range(n):\n",
    "        print(\" ---\" * m)  \n",
    "        row = f\"{i + 1} \"  \n",
    "        for j in range(m):\n",
    "            row += f\"| {symbols[matrix[i][j]]} \"\n",
    "        row += \"|\"  \n",
    "        print(row)\n",
    "    print(\" ---\" * m)  \n"
   ]
  },
  {
   "cell_type": "code",
   "execution_count": 30,
   "metadata": {
    "scrolled": true
   },
   "outputs": [
    {
     "name": "stdout",
     "output_type": "stream",
     "text": [
      "   A   B   C\n",
      " --- --- ---\n",
      "1 | X | O |   |\n",
      " --- --- ---\n",
      "2 |   | X | O |\n",
      " --- --- ---\n",
      "3 | O |   | X |\n",
      " --- --- ---\n"
     ]
    }
   ],
   "source": [
    "matrix = [\n",
    "    [1, 2, 0],\n",
    "    [0, 1, 2],\n",
    "    [2, 0, 1],\n",
    "]\n",
    "draw_tic_tac_toe_board_with_labels(matrix)\n"
   ]
  },
  {
   "cell_type": "markdown",
   "metadata": {},
   "source": [
    "*Exercise 7:* Write a function that takes a board, player number, and location specified as in exercise 6 and then calls exercise 5 to correctly modify the board.  "
   ]
  },
  {
   "cell_type": "code",
   "execution_count": 31,
   "metadata": {},
   "outputs": [],
   "source": [
    "def update_board_with_location(board, player, location):\n",
    "    \n",
    "    column = ord(location[0].upper()) - 65  \n",
    "    row = int(location[1]) - 1  \n",
    "    \n",
    "    return place_symbol(board, player, row, column)\n",
    "\n",
    "\n",
    "def place_symbol(board, player, x, y):\n",
    "    if x < 0 or x >= len(board) or y < 0 or y >= len(board[0]):\n",
    "        return False  \n",
    "    if board[x][y] == 0:\n",
    "        board[x][y] = player  \n",
    "        return True\n",
    "    else:\n",
    "        return False  \n",
    "\n",
    "\n",
    "\n"
   ]
  },
  {
   "cell_type": "code",
   "execution_count": 32,
   "metadata": {},
   "outputs": [
    {
     "name": "stdout",
     "output_type": "stream",
     "text": [
      "True\n",
      "True\n",
      "False\n",
      "[2, 1, 2]\n",
      "[0, 1, 0]\n",
      "[2, 1, 0]\n"
     ]
    }
   ],
   "source": [
    "game_board = [\n",
    "    [0, 1, 2],\n",
    "    [0, 0, 0],\n",
    "    [2, 1, 0],\n",
    "]\n",
    "\n",
    "print(update_board_with_location(game_board, 1, \"B2\"))  # True (valid placement)\n",
    "print(update_board_with_location(game_board, 2, \"A1\"))  # False (already occupied)\n",
    "print(update_board_with_location(game_board, 2, \"D3\"))  # False (out of bounds)\n",
    "\n",
    "for row in game_board:\n",
    "    print(row)"
   ]
  },
  {
   "cell_type": "markdown",
   "metadata": {},
   "source": [
    "*Exercise 8:* Write a function is called with a board and player number, takes input from the player using python's `input`, and modifies the board using your function from exercise 7. Note that you should keep asking for input until you have gotten a valid input that results in a valid move."
   ]
  },
  {
   "cell_type": "code",
   "execution_count": 33,
   "metadata": {},
   "outputs": [],
   "source": [
    "def player_move(board, player):\n",
    "\n",
    "    player_symbol = \"X\" if player == 1 else \"O\"\n",
    "    print(f\"Player {player} ({player_symbol}), it's your turn.\")\n",
    "\n",
    "    while True:\n",
    "        location = input(\"Enter your move (e.g., A1, B2): \").strip()\n",
    "\n",
    "        if len(location) != 2 or not location[0].isalpha() or not location[1].isdigit():\n",
    "            print(\"Invalid format. Use a letter (column) followed by a number (row), e.g., A1.\")\n",
    "            continue\n",
    "\n",
    "        if update_board_with_location(board, player, location):\n",
    "            print(f\"Move accepted at {location}!\")\n",
    "            break\n",
    "        else:\n",
    "            print(f\"Invalid move at {location}. Try again.\")\n",
    "\n",
    "def update_board_with_location(board, player, location):\n",
    "    column = ord(location[0].upper()) - 65\n",
    "    row = int(location[1]) - 1\n",
    "    return place_symbol(board, player, row, column)\n",
    "\n",
    "def place_symbol(board, player, x, y):\n",
    "    if x < 0 or x >= len(board) or y < 0 or y >= len(board[0]):\n",
    "        return False  \n",
    "    if board[x][y] == 0:\n",
    "        board[x][y] = player  \n",
    "        return True\n",
    "    else:\n",
    "        return False  \n",
    "\n",
    "\n",
    "\n"
   ]
  },
  {
   "cell_type": "code",
   "execution_count": 35,
   "metadata": {},
   "outputs": [
    {
     "name": "stdout",
     "output_type": "stream",
     "text": [
      "Player 1 (X), it's your turn.\n"
     ]
    },
    {
     "name": "stdin",
     "output_type": "stream",
     "text": [
      "Enter your move (e.g., A1, B2):  A3\n"
     ]
    },
    {
     "name": "stdout",
     "output_type": "stream",
     "text": [
      "Invalid move at A3. Try again.\n"
     ]
    },
    {
     "name": "stdin",
     "output_type": "stream",
     "text": [
      "Enter your move (e.g., A1, B2):  A4\n"
     ]
    },
    {
     "name": "stdout",
     "output_type": "stream",
     "text": [
      "Invalid move at A4. Try again.\n"
     ]
    },
    {
     "name": "stdin",
     "output_type": "stream",
     "text": [
      "Enter your move (e.g., A1, B2):  A2\n"
     ]
    },
    {
     "name": "stdout",
     "output_type": "stream",
     "text": [
      "Move accepted at A2!\n",
      "[0, 1, 2]\n",
      "[1, 0, 0]\n",
      "[2, 1, 0]\n"
     ]
    }
   ],
   "source": [
    "game_board = [\n",
    "    [0, 1, 2],\n",
    "    [0, 0, 0],\n",
    "    [2, 1, 0],\n",
    "]\n",
    "\n",
    "player_move(game_board, 1)\n",
    "\n",
    "for row in game_board:\n",
    "    print(row)"
   ]
  },
  {
   "cell_type": "markdown",
   "metadata": {},
   "source": [
    "*Exercise 9:* Use all of the previous exercises to implement a full tic-tac-toe game, where an appropriate board is drawn, 2 players are repeatedly asked for a location coordinates of where they wish to place a mark, and the game status is checked until a player wins or a draw occurs."
   ]
  },
  {
   "cell_type": "code",
   "execution_count": 39,
   "metadata": {},
   "outputs": [],
   "source": [
    "def create_tic_tac_toe_board(n):\n",
    "   \n",
    "    return [[0 for _ in range(n)] for _ in range(n)]\n",
    "\n",
    "\n",
    "def draw_tic_tac_toe_board_with_labels(matrix):\n",
    "    \n",
    "    n = len(matrix)  \n",
    "    symbols = {0: \" \", 1: \"X\", 2: \"O\"}\n",
    "\n",
    "    print(\"   \" + \"   \".join([chr(65 + col) for col in range(n)]))  # A, B, C, ...\n",
    "\n",
    "    for i in range(n):\n",
    "        print(\" ---\" * n)  \n",
    "        row = f\"{i + 1} \" \n",
    "        for j in range(n):\n",
    "            row += f\"| {symbols[matrix[i][j]]} \"\n",
    "        row += \"|\"\n",
    "        print(row)\n",
    "    print(\" ---\" * n)  \n",
    "\n",
    "\n",
    "def check_tic_tac_toe_winner(matrix):\n",
    "\n",
    "    n = len(matrix)\n",
    "\n",
    "    for i in range(n):\n",
    "        if all(cell == 1 for cell in matrix[i]):  \n",
    "            return 1\n",
    "        if all(cell == 2 for cell in matrix[i]):  \n",
    "            return 2\n",
    "        if all(matrix[j][i] == 1 for j in range(n)):  \n",
    "            return 1\n",
    "        if all(matrix[j][i] == 2 for j in range(n)):  \n",
    "            return 2\n",
    "\n",
    "    # Check diagonals for a winner\n",
    "    if all(matrix[i][i] == 1 for i in range(n)):  \n",
    "        return 1\n",
    "    if all(matrix[i][i] == 2 for i in range(n)):  \n",
    "        return 2\n",
    "    if all(matrix[i][n - i - 1] == 1 for i in range(n)):  \n",
    "        return 1\n",
    "    if all(matrix[i][n - i - 1] == 2 for i in range(n)):  \n",
    "        return 2\n",
    "\n",
    "    if any(0 in row for row in matrix):\n",
    "        return -1  \n",
    "\n",
    "    return 0  \n",
    "\n",
    "\n",
    "def update_board_with_location(board, player, location):\n",
    "    \n",
    "    column = ord(location[0].upper()) - 65\n",
    "    row = int(location[1]) - 1\n",
    "    return place_symbol(board, player, row, column)\n",
    "\n",
    "\n",
    "def place_symbol(board, player, x, y):\n",
    "   \n",
    "    if x < 0 or x >= len(board) or y < 0 or y >= len(board[0]):\n",
    "        return False  \n",
    "    if board[x][y] == 0:\n",
    "        board[x][y] = player  \n",
    "        return True\n",
    "    else:\n",
    "        return False \n",
    "\n",
    "\n",
    "def player_move(board, player):\n",
    "   \n",
    "    player_symbol = \"X\" if player == 1 else \"O\"\n",
    "    print(f\"Player {player} ({player_symbol}), it's your turn.\")\n",
    "\n",
    "    while True:\n",
    "        location = input(\"Enter your move (e.g., A1, B2): \").strip()\n",
    "\n",
    "        if len(location) != 2 or not location[0].isalpha() or not location[1].isdigit():\n",
    "            print(\"Invalid format. Use a letter (column) followed by a number (row), e.g., A1.\")\n",
    "            continue\n",
    "\n",
    "        if update_board_with_location(board, player, location):\n",
    "            print(f\"Move accepted at {location}!\")\n",
    "            break\n",
    "        else:\n",
    "            print(f\"Invalid move at {location}. Try again.\")\n",
    "\n"
   ]
  },
  {
   "cell_type": "code",
   "execution_count": 40,
   "metadata": {},
   "outputs": [
    {
     "name": "stdout",
     "output_type": "stream",
     "text": [
      "Welcome to Tic Tac Toe!\n",
      "   A   B   C\n",
      " --- --- ---\n",
      "1 |   |   |   |\n",
      " --- --- ---\n",
      "2 |   |   |   |\n",
      " --- --- ---\n",
      "3 |   |   |   |\n",
      " --- --- ---\n",
      "Player 1 (X), it's your turn.\n"
     ]
    },
    {
     "name": "stdin",
     "output_type": "stream",
     "text": [
      "Enter your move (e.g., A1, B2):  A1\n"
     ]
    },
    {
     "name": "stdout",
     "output_type": "stream",
     "text": [
      "Move accepted at A1!\n",
      "   A   B   C\n",
      " --- --- ---\n",
      "1 | X |   |   |\n",
      " --- --- ---\n",
      "2 |   |   |   |\n",
      " --- --- ---\n",
      "3 |   |   |   |\n",
      " --- --- ---\n",
      "Player 2 (O), it's your turn.\n"
     ]
    },
    {
     "name": "stdin",
     "output_type": "stream",
     "text": [
      "Enter your move (e.g., A1, B2):  C3\n"
     ]
    },
    {
     "name": "stdout",
     "output_type": "stream",
     "text": [
      "Move accepted at C3!\n",
      "   A   B   C\n",
      " --- --- ---\n",
      "1 | X |   |   |\n",
      " --- --- ---\n",
      "2 |   |   |   |\n",
      " --- --- ---\n",
      "3 |   |   | O |\n",
      " --- --- ---\n",
      "Player 1 (X), it's your turn.\n"
     ]
    },
    {
     "name": "stdin",
     "output_type": "stream",
     "text": [
      "Enter your move (e.g., A1, B2):  C1\n"
     ]
    },
    {
     "name": "stdout",
     "output_type": "stream",
     "text": [
      "Move accepted at C1!\n",
      "   A   B   C\n",
      " --- --- ---\n",
      "1 | X |   | X |\n",
      " --- --- ---\n",
      "2 |   |   |   |\n",
      " --- --- ---\n",
      "3 |   |   | O |\n",
      " --- --- ---\n",
      "Player 2 (O), it's your turn.\n"
     ]
    },
    {
     "name": "stdin",
     "output_type": "stream",
     "text": [
      "Enter your move (e.g., A1, B2):  a2\n"
     ]
    },
    {
     "name": "stdout",
     "output_type": "stream",
     "text": [
      "Move accepted at a2!\n",
      "   A   B   C\n",
      " --- --- ---\n",
      "1 | X |   | X |\n",
      " --- --- ---\n",
      "2 | O |   |   |\n",
      " --- --- ---\n",
      "3 |   |   | O |\n",
      " --- --- ---\n",
      "Player 1 (X), it's your turn.\n"
     ]
    },
    {
     "name": "stdin",
     "output_type": "stream",
     "text": [
      "Enter your move (e.g., A1, B2):  b1\n"
     ]
    },
    {
     "name": "stdout",
     "output_type": "stream",
     "text": [
      "Move accepted at b1!\n",
      "   A   B   C\n",
      " --- --- ---\n",
      "1 | X | X | X |\n",
      " --- --- ---\n",
      "2 | O |   |   |\n",
      " --- --- ---\n",
      "3 |   |   | O |\n",
      " --- --- ---\n",
      "Player 1 (X) wins!\n"
     ]
    }
   ],
   "source": [
    "def tic_tac_toe_game():\n",
    "    \"\"\"\n",
    "    Main function to play a full Tic Tac Toe game.\n",
    "    \"\"\"\n",
    "    print(\"Welcome to Tic Tac Toe!\")\n",
    "    board_size = 3  # You can change the board size here\n",
    "    board = create_tic_tac_toe_board(board_size)\n",
    "\n",
    "    draw_tic_tac_toe_board_with_labels(board)\n",
    "\n",
    "    current_player = 1\n",
    "    while True:\n",
    "        player_move(board, current_player)\n",
    "        draw_tic_tac_toe_board_with_labels(board)\n",
    "\n",
    "        status = check_tic_tac_toe_winner(board)\n",
    "        if status == 1:\n",
    "            print(\"Player 1 (X) wins!\")\n",
    "            break\n",
    "        elif status == 2:\n",
    "            print(\"Player 2 (O) wins!\")\n",
    "            break\n",
    "        elif status == 0:\n",
    "            print(\"It's a draw!\")\n",
    "            break\n",
    "\n",
    "        # Switch to the other player\n",
    "        current_player = 2 if current_player == 1 else 1\n",
    "tic_tac_toe_game()\n"
   ]
  },
  {
   "cell_type": "markdown",
   "metadata": {},
   "source": [
    "*Exercise 10:* Test that your game works for 5x5 Tic Tac Toe.  "
   ]
  },
  {
   "cell_type": "code",
   "execution_count": 1,
   "metadata": {},
   "outputs": [
    {
     "name": "stdout",
     "output_type": "stream",
     "text": [
      "  A B C D E\n",
      "1 . . . . .\n",
      "2 . . . . .\n",
      "3 . . . . .\n",
      "4 . . . . .\n",
      "5 . . . . .\n"
     ]
    },
    {
     "name": "stdin",
     "output_type": "stream",
     "text": [
      "Player 1 (X), enter your move (e.g., A1, B3):  a1\n"
     ]
    },
    {
     "name": "stdout",
     "output_type": "stream",
     "text": [
      "  A B C D E\n",
      "1 X . . . .\n",
      "2 . . . . .\n",
      "3 . . . . .\n",
      "4 . . . . .\n",
      "5 . . . . .\n"
     ]
    },
    {
     "name": "stdin",
     "output_type": "stream",
     "text": [
      "Player 2 (O), enter your move (e.g., A1, B3):  d5\n"
     ]
    },
    {
     "name": "stdout",
     "output_type": "stream",
     "text": [
      "  A B C D E\n",
      "1 X . . . .\n",
      "2 . . . . .\n",
      "3 . . . . .\n",
      "4 . . . . .\n",
      "5 . . . O .\n"
     ]
    },
    {
     "name": "stdin",
     "output_type": "stream",
     "text": [
      "Player 1 (X), enter your move (e.g., A1, B3):  a2\n"
     ]
    },
    {
     "name": "stdout",
     "output_type": "stream",
     "text": [
      "  A B C D E\n",
      "1 X . . . .\n",
      "2 X . . . .\n",
      "3 . . . . .\n",
      "4 . . . . .\n",
      "5 . . . O .\n"
     ]
    },
    {
     "name": "stdin",
     "output_type": "stream",
     "text": [
      "Player 2 (O), enter your move (e.g., A1, B3):  b4\n"
     ]
    },
    {
     "name": "stdout",
     "output_type": "stream",
     "text": [
      "  A B C D E\n",
      "1 X . . . .\n",
      "2 X . . . .\n",
      "3 . . . . .\n",
      "4 . O . . .\n",
      "5 . . . O .\n"
     ]
    },
    {
     "name": "stdin",
     "output_type": "stream",
     "text": [
      "Player 1 (X), enter your move (e.g., A1, B3):  a3\n"
     ]
    },
    {
     "name": "stdout",
     "output_type": "stream",
     "text": [
      "  A B C D E\n",
      "1 X . . . .\n",
      "2 X . . . .\n",
      "3 X . . . .\n",
      "4 . O . . .\n",
      "5 . . . O .\n"
     ]
    },
    {
     "name": "stdin",
     "output_type": "stream",
     "text": [
      "Player 2 (O), enter your move (e.g., A1, B3):  e1\n"
     ]
    },
    {
     "name": "stdout",
     "output_type": "stream",
     "text": [
      "  A B C D E\n",
      "1 X . . . O\n",
      "2 X . . . .\n",
      "3 X . . . .\n",
      "4 . O . . .\n",
      "5 . . . O .\n"
     ]
    },
    {
     "name": "stdin",
     "output_type": "stream",
     "text": [
      "Player 1 (X), enter your move (e.g., A1, B3):  a4\n"
     ]
    },
    {
     "name": "stdout",
     "output_type": "stream",
     "text": [
      "  A B C D E\n",
      "1 X . . . O\n",
      "2 X . . . .\n",
      "3 X . . . .\n",
      "4 X O . . .\n",
      "5 . . . O .\n"
     ]
    },
    {
     "name": "stdin",
     "output_type": "stream",
     "text": [
      "Player 2 (O), enter your move (e.g., A1, B3):  c1\n"
     ]
    },
    {
     "name": "stdout",
     "output_type": "stream",
     "text": [
      "  A B C D E\n",
      "1 X . O . O\n",
      "2 X . . . .\n",
      "3 X . . . .\n",
      "4 X O . . .\n",
      "5 . . . O .\n"
     ]
    },
    {
     "name": "stdin",
     "output_type": "stream",
     "text": [
      "Player 1 (X), enter your move (e.g., A1, B3):  a5\n"
     ]
    },
    {
     "name": "stdout",
     "output_type": "stream",
     "text": [
      "  A B C D E\n",
      "1 X . O . O\n",
      "2 X . . . .\n",
      "3 X . . . .\n",
      "4 X O . . .\n",
      "5 X . . O .\n",
      "Player 1 (X) wins!\n"
     ]
    }
   ],
   "source": [
    "import string\n",
    "\n",
    "def create_tic_tac_toe_board(n):\n",
    "    return [[0 for _ in range(n)] for _ in range(n)]\n",
    "\n",
    "def draw_tic_tac_toe_board_with_labels(board):\n",
    "    n = len(board)\n",
    "    cols = \"  \" + \" \".join(string.ascii_uppercase[:n])\n",
    "    print(cols)\n",
    "    for i, row in enumerate(board):\n",
    "        print(f\"{i+1} \" + \" \".join(\"X\" if cell == 1 else \"O\" if cell == 2 else \".\" for cell in row))\n",
    "\n",
    "def place_symbol(board, player, x, y):\n",
    "    if 0 <= x < len(board) and 0 <= y < len(board) and board[x][y] == 0:\n",
    "        board[x][y] = player\n",
    "        return True\n",
    "    return False\n",
    "\n",
    "def check_tic_tac_toe_winner(board):\n",
    "    n = len(board)\n",
    "    for i in range(n):\n",
    "        if all(board[i][j] == 1 for j in range(n)) or all(board[j][i] == 1 for j in range(n)):\n",
    "            return 1\n",
    "        if all(board[i][j] == 2 for j in range(n)) or all(board[j][i] == 2 for j in range(n)):\n",
    "            return 2\n",
    "    if all(board[i][i] == 1 for i in range(n)) or all(board[i][n-1-i] == 1 for i in range(n)):\n",
    "        return 1\n",
    "    if all(board[i][i] == 2 for i in range(n)) or all(board[i][n-1-i] == 2 for i in range(n)):\n",
    "        return 2\n",
    "    if any(0 in row for row in board):\n",
    "        return -1\n",
    "    return 0\n",
    "\n",
    "def get_coordinates_from_input(move):\n",
    "    row = int(move[1]) - 1\n",
    "    col = string.ascii_uppercase.index(move[0].upper())\n",
    "    return row, col\n",
    "\n",
    "def player_turn(board, player):\n",
    "    while True:\n",
    "        move = input(f\"Player {player} ({'X' if player == 1 else 'O'}), enter your move (e.g., A1, B3): \")\n",
    "        if len(move) == 2 and move[0].upper() in string.ascii_uppercase[:len(board)] and move[1].isdigit():\n",
    "            x, y = get_coordinates_from_input(move)\n",
    "            if place_symbol(board, player, x, y):\n",
    "                break\n",
    "            else:\n",
    "                print(\"Invalid move.\")\n",
    "        else:\n",
    "            print(\"Invalid input format. Use format like A1, B3.\")\n",
    "\n",
    "def play_tic_tac_toe(n=5):\n",
    "    board = create_tic_tac_toe_board(n)\n",
    "    player = 1\n",
    "    while True:\n",
    "        draw_tic_tac_toe_board_with_labels(board)\n",
    "        player_turn(board, player)\n",
    "        result = check_tic_tac_toe_winner(board)\n",
    "        if result == 1:\n",
    "            draw_tic_tac_toe_board_with_labels(board)\n",
    "            print(\"Player 1 (X) wins!\")\n",
    "            break\n",
    "        elif result == 2:\n",
    "            draw_tic_tac_toe_board_with_labels(board)\n",
    "            print(\"Player 2 (O) wins!\")\n",
    "            break\n",
    "        elif result == 0:\n",
    "            draw_tic_tac_toe_board_with_labels(board)\n",
    "            print(\"It's a draw!\")\n",
    "            break\n",
    "        player = 3 - player  # Toggle between 1 and 2\n",
    "\n",
    "if __name__ == \"__main__\":\n",
    "    play_tic_tac_toe(5)"
   ]
  },
  {
   "cell_type": "markdown",
   "metadata": {},
   "source": [
    "*Exercise 11:* (Advanced / Challenge) Develop a version of the game where one player is the computer. Note that you don't need to do an extensive seach for the best move. You can have the computer simply protect against loosing and otherwise try to win with straight or diagonal patterns."
   ]
  },
  {
   "cell_type": "code",
   "execution_count": null,
   "metadata": {
    "collapsed": true,
    "jupyter": {
     "outputs_hidden": true
    }
   },
   "outputs": [],
   "source": [
    "# Write you solution here"
   ]
  },
  {
   "cell_type": "code",
   "execution_count": null,
   "metadata": {
    "collapsed": true,
    "jupyter": {
     "outputs_hidden": true
    }
   },
   "outputs": [],
   "source": [
    "# Test your solution here"
   ]
  }
 ],
 "metadata": {
  "kernelspec": {
   "display_name": "Python 3 (ipykernel)",
   "language": "python",
   "name": "python3"
  },
  "language_info": {
   "codemirror_mode": {
    "name": "ipython",
    "version": 3
   },
   "file_extension": ".py",
   "mimetype": "text/x-python",
   "name": "python",
   "nbconvert_exporter": "python",
   "pygments_lexer": "ipython3",
   "version": "3.12.8"
  }
 },
 "nbformat": 4,
 "nbformat_minor": 4
}
